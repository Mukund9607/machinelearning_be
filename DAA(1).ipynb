{
  "nbformat": 4,
  "nbformat_minor": 0,
  "metadata": {
    "colab": {
      "provenance": []
    },
    "kernelspec": {
      "name": "python3",
      "display_name": "Python 3"
    },
    "language_info": {
      "name": "python"
    }
  },
  "cells": [
    {
      "cell_type": "code",
      "execution_count": null,
      "metadata": {
        "colab": {
          "base_uri": "https://localhost:8080/"
        },
        "id": "-zsdKVbl-Q-U",
        "outputId": "b861f4f6-e8aa-4a1a-9b03-7f19f8ae8ac2"
      },
      "outputs": [
        {
          "output_type": "stream",
          "name": "stdout",
          "text": [
            "How many terms? 5\n",
            "Fibonacci sequence:\n",
            "0\n",
            "1\n",
            "1\n",
            "2\n",
            "3\n",
            "Steps reqired using Counter  19\n"
          ]
        }
      ],
      "source": [
        "# Write a recursive program to calculate Fibonacci numbers and find its step count.\n",
        "COUNT=0\n",
        "def recur_fibo(n):  \n",
        "   global COUNT\n",
        "   COUNT=COUNT+1\n",
        "   if n <= 1:  \n",
        "       return n  \n",
        "   else:  \n",
        "       return(recur_fibo(n-1) + recur_fibo(n-2))  \n",
        "# take input from the user  \n",
        "\n",
        "\n",
        "nterms = int(input(\"How many terms? \"))  \n",
        "# check if the number of terms is valid  \n",
        "if nterms <= 0:  \n",
        "   print(\"Plese enter a positive integer\")  \n",
        "else:  \n",
        "   print(\"Fibonacci sequence:\")  \n",
        "   for i in range(nterms):  \n",
        "       print(recur_fibo(i))\n",
        "\n",
        "\n",
        "print(\"Steps reqired using Counter \", COUNT)\n"
      ]
    },
    {
      "cell_type": "code",
      "source": [
        "# Write a iterative program to calculate Fibonacci numbers and find its step count.\n",
        "COUNT = 0\n",
        "x=int(input(\"Enter Number of Terms :\"))\n",
        "first=0\n",
        "sec=1\n",
        "c=0\n",
        "if(x<0):\n",
        "    print(\"Enter valid input..\")\n",
        "elif(x==0):\n",
        "    print(0)\n",
        "elif(x==1):\n",
        "    print(\"Fibbonacci series upto\",x,\"is\",first)\n",
        "else:\n",
        "    while c<x:\n",
        "        print(first) \n",
        "        COUNT = COUNT +1\n",
        "        nth=first+sec \n",
        "        COUNT = COUNT +1\n",
        "        first=sec \n",
        "        COUNT = COUNT +1\n",
        "        sec=nth \n",
        "        COUNT = COUNT +1\n",
        "        c+=1  \n",
        "        COUNT = COUNT +1\n",
        "        \n",
        "\n",
        "print(\"Steps required using Counter \", COUNT)\n",
        "     "
      ],
      "metadata": {
        "colab": {
          "base_uri": "https://localhost:8080/"
        },
        "id": "X6-waXzl-phu",
        "outputId": "b17fff2e-8522-4dd6-c7e3-38a7332a77d2"
      },
      "execution_count": null,
      "outputs": [
        {
          "output_type": "stream",
          "name": "stdout",
          "text": [
            "Enter Number of Terms :7\n",
            "0\n",
            "1\n",
            "1\n",
            "2\n",
            "3\n",
            "5\n",
            "8\n",
            "Steps required using Counter  35\n"
          ]
        }
      ]
    }
  ]
}